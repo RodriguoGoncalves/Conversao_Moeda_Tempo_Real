{
  "nbformat": 4,
  "nbformat_minor": 0,
  "metadata": {
    "colab": {
      "name": "Conversao_Moeda_Tempo_Real",
      "provenance": [],
      "authorship_tag": "ABX9TyOBwCecqKp7shyNoREabYiM",
      "include_colab_link": true
    },
    "kernelspec": {
      "name": "python3",
      "display_name": "Python 3"
    },
    "language_info": {
      "name": "python"
    }
  },
  "cells": [
    {
      "cell_type": "markdown",
      "metadata": {
        "id": "view-in-github",
        "colab_type": "text"
      },
      "source": [
        "<a href=\"https://colab.research.google.com/github/RodriguoGoncalves/Conversao_Moeda_Tempo_Real/blob/main/Conversao_Moeda_Tempo_Real.ipynb\" target=\"_parent\"><img src=\"https://colab.research.google.com/assets/colab-badge.svg\" alt=\"Open In Colab\"/></a>"
      ]
    },
    {
      "cell_type": "code",
      "execution_count": null,
      "metadata": {
        "id": "Z2JUvULhOMsx"
      },
      "outputs": [],
      "source": [
        ""
      ]
    },
    {
      "cell_type": "markdown",
      "source": [
        "<img alt=\"Colaboratory logo\" width=\"75%\" src=\"https://github.com/RodriguoGoncalves/Sigmoidal_data_science/blob/main/banner2.png?raw=true\">\n",
        "\n",
        "#### ***Análise Exploratória de Dados do Airbnb***\n",
        "*by Rodrigo Gonçalves* ([Github](https://github.com/RodriguoGoncalves/Sigmoidal_data_science), [Linkedin](https://www.linkedin.com/in/rodrigo-gon%C3%A7alves-a22b6012a//), [Medium](https://medium.com/@rodriguogoncalves) )\n",
        "\n",
        "---\n"
      ],
      "metadata": {
        "id": "HNWgDcotSusc"
      }
    },
    {
      "cell_type": "markdown",
      "source": [
        "###***Instalações de Pacotes (Explicação)***\n",
        "\n",
        "* ***!pip install forex-python*** >>  é uma biblioteca de plotagem interativa de código aberto que oferece suporte a mais de 40 tipos de gráficos exclusivos, cobrindo uma ampla variedade de casos de uso estatísticos, financeiros, geográficos, científicos e tridimensionais."
      ],
      "metadata": {
        "id": "Ef56KbToRLzs"
      }
    },
    {
      "cell_type": "code",
      "source": [
        "###***Instalações de Pacotes (Execução)***\n",
        "!pip install forex-python\n"
      ],
      "metadata": {
        "id": "dHaEZiUKRZ8L"
      },
      "execution_count": null,
      "outputs": []
    },
    {
      "cell_type": "markdown",
      "source": [
        "###***Importações (Explicação)***\n",
        "\n",
        "* ***import forex_python*** >> é uma biblioteca de software criada para a linguagem Python para manipulação e análise de dados. Em particular, oferece estruturas e operações para manipular tabelas numéricas e séries temporais. Para aprofundamento, [clique aqui](https://medium.com/tech-grupozap/introdu%C3%A7%C3%A3o-a-biblioteca-pandas-89fa8ed4fa38)."
      ],
      "metadata": {
        "id": "97Jk0MWQRozh"
      }
    },
    {
      "cell_type": "code",
      "source": [
        "###***Importações(Execução)***\n",
        "!pip install forex-python"
      ],
      "metadata": {
        "id": "udE1Ds6oR6jc"
      },
      "execution_count": null,
      "outputs": []
    },
    {
      "cell_type": "markdown",
      "source": [
        "###***Objetivo do Código***"
      ],
      "metadata": {
        "id": "YWWaFW3gSDaZ"
      }
    },
    {
      "cell_type": "code",
      "source": [
        "\n",
        "from forex_python.converter import CurrencyCodes, CurrencyRates\n",
        "c = CurrencyRates()\n",
        "cd = CurrencyCodes()\n",
        "\n",
        "\n",
        "\n",
        "def titulo(txt):\n",
        "    print('-'*len(txt))\n",
        "    print('\\033[34m'+txt+'\\033[0;0m')\n",
        "    print('-'*len(txt))\n",
        "\n",
        "\n",
        "def moeda():\n",
        "    print('\\033[35m\\n1-BRL\\n2-EUR\\n3-OUTRO:\\n\\33[0;0m')\n",
        "\n",
        "\n",
        "# principal\n",
        "while True:\n",
        "    # 1 bloco : instruções\n",
        "    titulo('CONVERSOR DE MOEDA/TAXA DE CAMBIO')\n",
        "    titulo('- QUAL O VALOR DA MOEDA QUE ALMEJA CONVERTER?\\n- CONVERTER DE QUAL MOEDA?\\n- PARA QUAL MOEDA?')\n",
        "    titulo('QUAL O VALOR DA MOEDA QUE ALMEJA CONVERTER?')\n",
        "\n",
        "    while True:\n",
        "        try:\n",
        "            valor_inicial = float(\n",
        "                input(\"insira o valor desejado para a operação:  \\n\"))\n",
        "            break\n",
        "        except ValueError:\n",
        "            print(\n",
        "                \"\\033[31m Opa!  entrada invalida.   insira valor valido\\33[0;0m\")\n",
        "\n",
        "# 2 inserir moeda inical\n",
        "    titulo('CONVERTER DE QUAL MOEDA?')\n",
        "    cod_moeda_inicial = None\n",
        "    while cod_moeda_inicial not in (1, 2, 3):\n",
        "        moeda()\n",
        "        try:\n",
        "            cod_moeda_inicial = int(input(\"selecione uma das 3 opções:  \"))\n",
        "            if cod_moeda_inicial == 1:\n",
        "                cod_moeda_inicial = 'BRL'\n",
        "                print(\"cod de escolha:\", cod_moeda_inicial)\n",
        "                break\n",
        "            elif cod_moeda_inicial == 2:\n",
        "                cod_moeda_inicial = 'EUR'\n",
        "                print(\"cod de escolha:\", cod_moeda_inicial)\n",
        "                break\n",
        "            elif cod_moeda_inicial == 3:\n",
        "                cod_moeda_inicial = input(\n",
        "                    '\\nOUTRO, codigo da moeda de escolha (3 digitos):').upper()\n",
        "                print('codigo de escolha do pais de operação:', cod_moeda_inicial)\n",
        "                break\n",
        "        except:\n",
        "            print(\n",
        "                \"\\033[31m Opa! entrada invalida :(  SELECIONE AS OPÇÕES DISPONIVEIS\\33[0;0m\")\n",
        "\n",
        "# 3 bloco inserir moeda para cambio\n",
        "    titulo('PARA QUAL MOEDA?')\n",
        "    cod_moeda_cambio = None\n",
        "    while cod_moeda_cambio not in (1, 2, 3):\n",
        "        moeda()\n",
        "        try:\n",
        "            cod_moeda_cambio = int(input(\"selecione uma das 3 opções:  \"))\n",
        "            if cod_moeda_cambio == 1:\n",
        "                cod_moeda_cambio = 'BRL'\n",
        "                print(\"cod de escolha:\", cod_moeda_cambio)\n",
        "                break\n",
        "            elif cod_moeda_cambio == 2:\n",
        "                cod_moeda_cambio = 'EUR'\n",
        "                print(\"cod de escolha:\", cod_moeda_cambio)\n",
        "                break\n",
        "            elif cod_moeda_cambio == 3:\n",
        "                cod_moeda_cambio = input(\n",
        "                    '\\nOUTRO, codigo da moeda de escolha (3 digitos):').upper()\n",
        "                print('cod de escolha:', cod_moeda_cambio)\n",
        "                break\n",
        "        except:\n",
        "            print(\n",
        "                \"\\033[1;31m Opa! entrada invalida :(  SELECIONE AS OPÇÕES DISPONIVEIS\\33[0;0m\")\n",
        "\n",
        "# 4 conversão\n",
        "    titulo('CONVERSÃO...')\n",
        "    result = c.convert(cod_moeda_inicial, cod_moeda_cambio, valor_inicial)\n",
        "    simbolo_moeda = cd.get_symbol(cod_moeda_inicial)\n",
        "    simbolo_moeda_cambio = cd.get_symbol(cod_moeda_cambio)\n",
        "    result = round(result, 2)\n",
        "    print(f'{cod_moeda_inicial}  -  {simbolo_moeda} {valor_inicial}   =  {cod_moeda_cambio}  -  {simbolo_moeda_cambio} { result}  ')"
      ],
      "metadata": {
        "id": "d_DmhxxKTFz7"
      },
      "execution_count": null,
      "outputs": []
    },
    {
      "cell_type": "code",
      "source": [
        ""
      ],
      "metadata": {
        "id": "u38PKFhjU5HX"
      },
      "execution_count": null,
      "outputs": []
    }
  ]
}